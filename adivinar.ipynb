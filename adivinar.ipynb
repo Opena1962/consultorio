{
  "nbformat": 4,
  "nbformat_minor": 0,
  "metadata": {
    "colab": {
      "provenance": [],
      "authorship_tag": "ABX9TyMuP6JO7w/m3SjsX3i6LLxW",
      "include_colab_link": true
    },
    "kernelspec": {
      "name": "python3",
      "display_name": "Python 3"
    },
    "language_info": {
      "name": "python"
    }
  },
  "cells": [
    {
      "cell_type": "markdown",
      "metadata": {
        "id": "view-in-github",
        "colab_type": "text"
      },
      "source": [
        "<a href=\"https://colab.research.google.com/github/Opena1962/consultorio/blob/main/adivinar.ipynb\" target=\"_parent\"><img src=\"https://colab.research.google.com/assets/colab-badge.svg\" alt=\"Open In Colab\"/></a>"
      ]
    },
    {
      "cell_type": "code",
      "execution_count": null,
      "metadata": {
        "colab": {
          "base_uri": "https://localhost:8080/"
        },
        "id": "Qhy2pIU9-YLN",
        "outputId": "1d67eaa5-6885-44c2-f19d-d365a0827017"
      },
      "outputs": [
        {
          "output_type": "stream",
          "name": "stdout",
          "text": [
            "Ingrese un número:10\n",
            "Número muy pequeño, pruebe uno más grande\n",
            "Ingrese un número:15\n",
            "Número muy grande, pruebe uno más pequeño\n",
            "Ingrese un número:13\n",
            "Número muy grande, pruebe uno más pequeño\n",
            "Ingrese un número:12\n",
            "Felicitaciones!\n"
          ]
        }
      ],
      "source": [
        "import random\n",
        "\n",
        "numeroPC = random.randint(1,20)\n",
        "adivine = False\n",
        "\n",
        "while adivine == False:\n",
        "  numeroUsuario = int(input(\"Ingrese un número:\"))\n",
        "\n",
        "  if numeroPC == numeroUsuario:\n",
        "    print(\"Felicitaciones!\")\n",
        "    adivine = True\n",
        "  else:\n",
        "    if numeroUsuario > numeroPC:\n",
        "      print(\"Número muy grande, pruebe uno más pequeño\")\n",
        "    else:\n",
        "      print(\"Número muy pequeño, pruebe uno más grande\")\n"
      ]
    },
    {
      "cell_type": "code",
      "source": [
        "temperatura = 24\n",
        "\n",
        "if temperatura > 90:\n",
        "  print(\"ALARMA!\")\n",
        "else:\n",
        "  print(\"Temperatura OK\")\n",
        ""
      ],
      "metadata": {
        "id": "WvZ82lIxDvsP",
        "outputId": "46c601ee-9f6f-419f-8989-1606024d255b",
        "colab": {
          "base_uri": "https://localhost:8080/"
        }
      },
      "execution_count": 1,
      "outputs": [
        {
          "output_type": "stream",
          "name": "stdout",
          "text": [
            "Temperatura OK\n"
          ]
        }
      ]
    },
    {
      "cell_type": "code",
      "source": [
        "def chequearSensor(sensor):\n",
        "  if sensor > 90:\n",
        "    print(\"ALARMA!\")\n",
        "  else:\n",
        "    print(\"Temperatura OK\")\n",
        "\n",
        "temperatura1 = 100\n",
        "temperatura2 = 50\n",
        "\n",
        "chequearSensor(temperatura1)\n"
      ],
      "metadata": {
        "id": "i4VT34LfE9Ds",
        "outputId": "02355635-cd88-42a0-8abb-c8931f46ad22",
        "colab": {
          "base_uri": "https://localhost:8080/"
        }
      },
      "execution_count": 2,
      "outputs": [
        {
          "output_type": "stream",
          "name": "stdout",
          "text": [
            "ALARMA!\n"
          ]
        }
      ]
    },
    {
      "cell_type": "code",
      "source": [],
      "metadata": {
        "id": "8AmFrs1fcJ5N"
      },
      "execution_count": null,
      "outputs": []
    }
  ]
}