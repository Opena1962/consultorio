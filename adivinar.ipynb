{
  "nbformat": 4,
  "nbformat_minor": 0,
  "metadata": {
    "colab": {
      "provenance": [],
      "authorship_tag": "ABX9TyNxKRSYucKFzrmWzK6xswSv",
      "include_colab_link": true
    },
    "kernelspec": {
      "name": "python3",
      "display_name": "Python 3"
    },
    "language_info": {
      "name": "python"
    }
  },
  "cells": [
    {
      "cell_type": "markdown",
      "metadata": {
        "id": "view-in-github",
        "colab_type": "text"
      },
      "source": [
        "<a href=\"https://colab.research.google.com/github/Opena1962/consultorio/blob/main/adivinar.ipynb\" target=\"_parent\"><img src=\"https://colab.research.google.com/assets/colab-badge.svg\" alt=\"Open In Colab\"/></a>"
      ]
    },
    {
      "cell_type": "code",
      "execution_count": 1,
      "metadata": {
        "colab": {
          "base_uri": "https://localhost:8080/"
        },
        "id": "Qhy2pIU9-YLN",
        "outputId": "1d67eaa5-6885-44c2-f19d-d365a0827017"
      },
      "outputs": [
        {
          "output_type": "stream",
          "name": "stdout",
          "text": [
            "Ingrese un número:10\n",
            "Número muy pequeño, pruebe uno más grande\n",
            "Ingrese un número:15\n",
            "Número muy grande, pruebe uno más pequeño\n",
            "Ingrese un número:13\n",
            "Número muy grande, pruebe uno más pequeño\n",
            "Ingrese un número:12\n",
            "Felicitaciones!\n"
          ]
        }
      ],
      "source": [
        "import random\n",
        "\n",
        "numeroPC = random.randint(1,20)\n",
        "adivine = False\n",
        "\n",
        "while adivine == False:\n",
        "  numeroUsuario = int(input(\"Ingrese un número:\"))\n",
        "\n",
        "  if numeroPC == numeroUsuario:\n",
        "    print(\"Felicitaciones!\")\n",
        "    adivine = True\n",
        "  else:\n",
        "    if numeroUsuario > numeroPC:\n",
        "      print(\"Número muy grande, pruebe uno más pequeño\")\n",
        "    else:\n",
        "      print(\"Número muy pequeño, pruebe uno más grande\")\n"
      ]
    }
  ]
}